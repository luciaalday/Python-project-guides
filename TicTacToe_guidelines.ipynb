{
 "cells": [
  {
   "cell_type": "markdown",
   "metadata": {},
   "source": [
    "# TicTacToe Guidelines\n",
    "Toad"
   ]
  },
  {
   "cell_type": "markdown",
   "metadata": {},
   "source": [
    ">Recall that similar to the example Rock, Paper, Scissors, TicTacToe will use 4 functions"
   ]
  },
  {
   "cell_type": "markdown",
   "metadata": {},
   "source": [
    "### print_board(list)\n",
    "list is a list of 9 strings, where each corresponds to a spot on the board. This function is solely for printing the board in the terminal<br>Note: this function doesn't return anything"
   ]
  },
  {
   "cell_type": "code",
   "execution_count": 4,
   "metadata": {},
   "outputs": [
    {
     "name": "stdout",
     "output_type": "stream",
     "text": [
      " 0 | 1 | 2 \n",
      "___|___|___\n",
      " 3 | 4 | 5 \n",
      "___|___|___\n",
      " 6 | 7 | 8 \n",
      "   |   |   \n"
     ]
    }
   ],
   "source": [
    "def print_board(list):\n",
    "    print(\" \" + list[0] + \" | \" + list[1] + \" | \" + list[2] + \" \")\n",
    "    print(\"___|___|___\")\n",
    "    print(\" \" + list[3] + \" | \" + list[4] + \" | \" + list[5] + \" \")\n",
    "    print(\"___|___|___\")\n",
    "    print(\" \" + list[6] + \" | \" + list[7] + \" | \" + list[8] + \" \")\n",
    "    print(\"   |   |   \")\n",
    "\n",
    "print_board([\"0\", \"1\", \"2\", \"3\", \"4\", \"5\", \"6\", \"7\", \"8\"])"
   ]
  },
  {
   "cell_type": "markdown",
   "metadata": {},
   "source": [
    "### check_wins(list)\n",
    "This function checks all 8 possible win conditions within a TicTacToe board and uses if/elif/else statements to iterate. If a win is found, the function returns True. Otherwise (likely in your else branch), the function returns False"
   ]
  },
  {
   "cell_type": "code",
   "execution_count": 5,
   "metadata": {},
   "outputs": [],
   "source": [
    "def check_wins(list):\n",
    "    if list[0] == list[1] and list[1] == list[2] and list[0] != \" \":\n",
    "        if list[0] == \"O\":\n",
    "            print(\"O wins!\")\n",
    "        elif list[0] == \"X\":\n",
    "            print(\"X wins!\")\n",
    "        return True\n",
    "    # insert the rest of your win conditions as 7 more elif statements\n",
    "    else:\n",
    "        return False"
   ]
  },
  {
   "cell_type": "markdown",
   "metadata": {},
   "source": [
    "### turn(list, turn_number)\n",
    "This function determines whose turn it is based on whether there have been an odd or even number of turns<br>Then, it takes the input of where the player places their next move and adjusts the list of the board accordingly<br>Return the updated list"
   ]
  },
  {
   "cell_type": "code",
   "execution_count": 6,
   "metadata": {},
   "outputs": [],
   "source": [
    "def turn(list, turn_number):\n",
    "    if turn_number % 2 == 0:\n",
    "        # it is even so it's X's turn\n",
    "        pass\n",
    "    else:\n",
    "        # if it's not even, it's odd and it's O's turn\n",
    "        pass\n",
    "    return list"
   ]
  },
  {
   "cell_type": "markdown",
   "metadata": {},
   "source": [
    "### main()\n",
    "This function ties it all together.<br>This code block is not meant to run, but to give a starting point for what to include in your main()<br>Nothing is returned"
   ]
  },
  {
   "cell_type": "code",
   "execution_count": 12,
   "metadata": {},
   "outputs": [
    {
     "name": "stdout",
     "output_type": "stream",
     "text": [
      "Reference board\n",
      " 0 | 1 | 2 \n",
      "___|___|___\n",
      " 3 | 4 | 5 \n",
      "___|___|___\n",
      " 6 | 7 | 8 \n",
      "   |   |   \n",
      "   |   |   \n",
      "___|___|___\n",
      "   |   |   \n",
      "___|___|___\n",
      "   |   |   \n",
      "   |   |   \n"
     ]
    }
   ],
   "source": [
    "def print_board(list):\n",
    "    print(\" \" + list[0] + \" | \" + list[1] + \" | \" + list[2] + \" \")\n",
    "    print(\"___|___|___\")\n",
    "    print(\" \" + list[3] + \" | \" + list[4] + \" | \" + list[5] + \" \")\n",
    "    print(\"___|___|___\")\n",
    "    print(\" \" + list[6] + \" | \" + list[7] + \" | \" + list[8] + \" \")\n",
    "    print(\"   |   |   \")\n",
    "\n",
    "def check_win(list):\n",
    "    return False\n",
    "    # this is not the full function it is just to get rid of the auto-syntax errors on here\n",
    "\n",
    "def main():\n",
    "    # what number corresponds to what spot\n",
    "    win = False\n",
    "    turn_number = 0\n",
    "    print(\"Reference board\")\n",
    "    print_board([\"0\", \"1\", \"2\", \"3\", \"4\", \"5\", \"6\", \"7\", \"8\"])\n",
    "    list = [\" \", \" \", \" \", \" \", \" \", \" \", \" \", \" \", \" \"]\n",
    "    while win == False:\n",
    "        print_board(list)\n",
    "        list = turn(list, turn_number)\n",
    "        win = check_win(list)\n",
    "        turn_number += 1\n",
    "\n",
    "main()"
   ]
  },
  {
   "cell_type": "markdown",
   "metadata": {},
   "source": [
    "*Lucia Alday<br>07/17/2024*"
   ]
  }
 ],
 "metadata": {
  "kernelspec": {
   "display_name": "Python 3",
   "language": "python",
   "name": "python3"
  },
  "language_info": {
   "codemirror_mode": {
    "name": "ipython",
    "version": 3
   },
   "file_extension": ".py",
   "mimetype": "text/x-python",
   "name": "python",
   "nbconvert_exporter": "python",
   "pygments_lexer": "ipython3",
   "version": "3.12.4"
  }
 },
 "nbformat": 4,
 "nbformat_minor": 2
}
