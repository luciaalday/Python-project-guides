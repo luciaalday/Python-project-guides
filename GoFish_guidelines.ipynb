{
 "cells": [
  {
   "cell_type": "markdown",
   "metadata": {},
   "source": [
    "# Go Fish Guidelines\n",
    "Toad"
   ]
  },
  {
   "cell_type": "markdown",
   "metadata": {},
   "source": [
    "## Go Fish Rules\n",
    "1. Two players begin with 7 cards in their hand.\n",
    "2. The goal of the game is to have the most pairs of numbers when the draw pile runs out.\n",
    "3. Each turn, one player asks the other if they have one of their cards. For example, a player with a seven may ask, \"Do you have a seven?\". If the other player has the card, they are obligated to hand it over and the player who asked gets to discard the two cards and increase their number of matches by one.\n",
    "4. If a player runs out of cards before the draw pile runs out, they may pick up 4 more, or the remainder of the draw pile if it is less then 4 cards."
   ]
  },
  {
   "cell_type": "markdown",
   "metadata": {},
   "source": [
    "This game is going to be broken down similarly to how Rock, Paper, Scissors was broken down, with a combination of classes and functions<br>We are going to use 3 classes (Cards, Deck, and Player) and two functions (turn, main)"
   ]
  },
  {
   "cell_type": "code",
   "execution_count": 5,
   "metadata": {},
   "outputs": [],
   "source": [
    "import random\n",
    "\n",
    "class Cards:\n",
    "    def __init__(self, suit, rank):\n",
    "        self.suit = suit\n",
    "        self.rank = rank\n",
    "    def __eq__(self, other):\n",
    "        return self.rank == other.rank\n",
    "    def __str__(self):\n",
    "        return self.rank + \" of \" + self.suit\n",
    "\n",
    "class Deck:\n",
    "    def __init__(self):\n",
    "        self.list = []\n",
    "        suits = [\"spades\", \"hearts\", \"clubs\", \"diamonds\"]\n",
    "        ranks = [\"ace\", \"two\", \"three\", \"four\", \"five\", \"six\", \"seven\", \"eight\", \"nine\", \"ten\", \"jack\", \"queen\", \"king\"]\n",
    "        for suit in suits:\n",
    "            # nested for loop: this will run the for loop with ranks for every single suit in suits, making sure all combinations are added to the deck\n",
    "            for rank in ranks:\n",
    "                temp_card = Cards(suit, rank)\n",
    "                # temp is short for temporary, and used for variables such as those in a for loop which are stored then reassigned in every iteration of the loop\n",
    "                self.list.append(temp_card)\n",
    "    def draw_random(self):\n",
    "        i = random.randint(0, len(self.list) - 1)\n",
    "        card = self.list[i]\n",
    "        self.list.pop(i)\n",
    "        return card\n",
    "    def __str__(self):\n",
    "        deck_str = \"\"\n",
    "        for card in self.list:\n",
    "            deck_str += card.rank + \" of \" + card.suit + \", \"\n",
    "        return deck_str\n",
    "\n",
    "class Player:\n",
    "    def __init__(self, name):\n",
    "        self.name = name\n",
    "        self.card_list = []\n",
    "        self.pairs = 0\n",
    "    def __str__(self):\n",
    "        player_str = self.name + \"\\t\"\n",
    "        for card in self.card_list:\n",
    "            player_str += self.rank + \" of \" + self.suit + \", \"\n",
    "        player_str += str(self.pairs) + \" pairs\"\n",
    "        return player_str\n"
   ]
  },
  {
   "cell_type": "markdown",
   "metadata": {},
   "source": [
    "### turn(player1, player2)\n",
    "The turn function lets the player input which of their cards they are asking for. If the opponent does not have the card, the player draws from the pile. In the case that a match is found, both the matching cards are set aside and the player's match count increases by one"
   ]
  },
  {
   "cell_type": "code",
   "execution_count": null,
   "metadata": {},
   "outputs": [],
   "source": [
    "def turn(player1, player2):\n",
    "    # print player1 cards\n",
    "    # take input to determine what number player1 will ask player2 for\n",
    "    # if player2 has the card\n",
    "        # remove from player2 hand\n",
    "        # discard that number from player1 hand\n",
    "        # add one to the number of pairs player1 has\n",
    "    # else\n",
    "        # draw a random card from the draw pile\n",
    "        # if the number matches any in player1 hand\n",
    "            # remove the new and matching card from player1 hand\n",
    "            # add 1 to player1 number of matches\n",
    "        # else\n",
    "            # add card to player1 hand\n",
    "    pass"
   ]
  },
  {
   "cell_type": "markdown",
   "metadata": {},
   "source": [
    "### main()\n",
    "This function sets up the players and creates a while loop that can determine when the game ends. It congratulates the winner in the end by comparing the number of pairs each has."
   ]
  },
  {
   "cell_type": "code",
   "execution_count": null,
   "metadata": {},
   "outputs": [],
   "source": [
    "def main():\n",
    "    deck1 = Deck()\n",
    "    # take input for player name and store as variable\n",
    "    # use that variable to create an object Player(...)\n",
    "    # create a second player named \"computer\", the actions of this one will be automated so that we don't have to reveal both player's cards during play\n",
    "    # create a while loop that allows the game to continue while there are cards in the draw pile\n",
    "    # at the end figure out if the computer or player has more matches and print an end of game message announcing the winner"
   ]
  },
  {
   "cell_type": "markdown",
   "metadata": {},
   "source": [
    "*Lucia Alday<br>07/17/2024*"
   ]
  }
 ],
 "metadata": {
  "kernelspec": {
   "display_name": "Python 3",
   "language": "python",
   "name": "python3"
  },
  "language_info": {
   "codemirror_mode": {
    "name": "ipython",
    "version": 3
   },
   "file_extension": ".py",
   "mimetype": "text/x-python",
   "name": "python",
   "nbconvert_exporter": "python",
   "pygments_lexer": "ipython3",
   "version": "3.12.4"
  }
 },
 "nbformat": 4,
 "nbformat_minor": 2
}
