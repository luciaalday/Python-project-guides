{
 "cells": [
  {
   "cell_type": "markdown",
   "metadata": {},
   "source": [
    "# Python Notes\n",
    "#### Toad\n",
    "> Note that variables written in all caps should be replaced with your variable name in the code"
   ]
  },
  {
   "cell_type": "markdown",
   "metadata": {
    "notebookRunGroups": {
     "groupValue": "1"
    }
   },
   "source": [
    "## Strings"
   ]
  },
  {
   "cell_type": "markdown",
   "metadata": {},
   "source": [
    "Make the following string into a list of words using `STRING_NAME.split()`<br>Print this list"
   ]
  },
  {
   "cell_type": "code",
   "execution_count": 6,
   "metadata": {},
   "outputs": [],
   "source": [
    "string1 = \"On Friday we are pieing Sea or Mr. Shabingus\""
   ]
  },
  {
   "cell_type": "markdown",
   "metadata": {},
   "source": [
    "This time, use `STRING_NAME.split(\",\")`, to split it along the commas and print it using a single line of code\n",
    "> Note: This does not alter the original string, it creates a new list. To save this new list, you have to assign it to a variable (`NEW_VAR = STRING_NAME.split()`)"
   ]
  },
  {
   "cell_type": "code",
   "execution_count": 7,
   "metadata": {},
   "outputs": [],
   "source": [
    "string2 = \"We,are,also,dunking,Piplup,this,Friday.\""
   ]
  },
  {
   "cell_type": "markdown",
   "metadata": {},
   "source": [
    "Get rid of a space or linebreak (`\\n`) at the beginning *(can be referred to as leading characters)* and end *(also called trailing characters)* of a string using `STRING_NAME.strip()`\n",
    ">This is useful for when taking inputs if the user accidentally adds a space where there shouldn't be one and doesn't notice"
   ]
  },
  {
   "cell_type": "code",
   "execution_count": null,
   "metadata": {},
   "outputs": [],
   "source": [
    "string3 = \"   Linebreak\\n\""
   ]
  },
  {
   "cell_type": "markdown",
   "metadata": {},
   "source": [
    "### Time to put it all together\n",
    "Print every other word of the following string, each word on a separate line\n",
    "> Hint: Use % and a new variable to keep track of whether you are on an even or odd number (if n % 2 == 1, the number is odd, otherwise it is even), increment the number by one in the loop"
   ]
  },
  {
   "cell_type": "code",
   "execution_count": null,
   "metadata": {},
   "outputs": [],
   "source": [
    "string4 = \"Acquainted with the Night\\nBy Robert Frost\\nI have been one acquainted with the night.\\nI have walked out in rain—and back in rain.\\nI have outwalked the furthest city light.\\n\\nI have looked down the saddest city lane.\\nI have passed by the watchman on his beat\\nAnd dropped my eyes, unwilling to explain.\\n\\nI have stood still and stopped the sound of feet\\nWhen far away an interrupted cry\\nCame over houses from another street,\\n\\nBut not to call me back or say good-bye;\\nAnd further still at an unearthly height,\\nOne luminary clock against the sky\\n\\nProclaimed the time was neither wrong nor right.\\nI have been one acquainted with the night.\\n\""
   ]
  },
  {
   "cell_type": "markdown",
   "metadata": {},
   "source": [
    "## Lists"
   ]
  },
  {
   "cell_type": "markdown",
   "metadata": {},
   "source": [
    "Increment each number of the following list by 5"
   ]
  },
  {
   "cell_type": "code",
   "execution_count": null,
   "metadata": {},
   "outputs": [],
   "source": [
    "\n",
    "list1 = [4, 5, 6, 3, 1, 8]"
   ]
  },
  {
   "cell_type": "markdown",
   "metadata": {},
   "source": [
    "Quickly sort the list using `LIST_NAME.sort()`\n",
    "> This works both numerically and alphabetically (but not if a list contains a mix of string variables and int/float variables)<br>Note: This alters the original list"
   ]
  },
  {
   "cell_type": "code",
   "execution_count": null,
   "metadata": {},
   "outputs": [],
   "source": [
    "list2 = [4, 7, 9, 0, 12]"
   ]
  },
  {
   "cell_type": "markdown",
   "metadata": {},
   "source": [
    "Only change the third item of the list to 78"
   ]
  },
  {
   "cell_type": "code",
   "execution_count": null,
   "metadata": {},
   "outputs": [],
   "source": [
    "list3 = [\"one\", 2, 4, 5, \"six\", 89]"
   ]
  },
  {
   "cell_type": "markdown",
   "metadata": {},
   "source": [
    "# Dictionaries"
   ]
  },
  {
   "cell_type": "markdown",
   "metadata": {},
   "source": [
    "Make a dictionary of Team USA gymnast scores using a while loop where list1 is the keys and list2 is their corresponding values"
   ]
  },
  {
   "cell_type": "code",
   "execution_count": null,
   "metadata": {},
   "outputs": [],
   "source": [
    "list1 = [\"Simone Biles\", \"Jade Carey\", \"Jordan Chiles\", \"Suni Lee\", \"Hezly Rivera\", \"Joscelyn Roberson\", \"Leanne Wong\"]\n",
    "list2 = [117.225, 111.350, 111.425, 111.675, 111.150, 110.975, 110.425]"
   ]
  },
  {
   "cell_type": "markdown",
   "metadata": {},
   "source": [
    "# Functions"
   ]
  },
  {
   "cell_type": "markdown",
   "metadata": {},
   "source": [
    "Functions are used to organize code.<br>Every function *returns* a value, either a variable, multiple variables, or null (nothing)<br><br>The following function takes a number as a *parameter* and returns that number squared.\n",
    "> Recall that return stores a value which can be printed or assigned to a variable"
   ]
  },
  {
   "cell_type": "code",
   "execution_count": null,
   "metadata": {},
   "outputs": [],
   "source": [
    "def num_squared(num):\n",
    "    return num ** 2\n",
    "    # ** is how you code exponents, recall that * is multiplication\n",
    "\n",
    "n = num_squared(9)\n",
    "print(n)"
   ]
  },
  {
   "cell_type": "markdown",
   "metadata": {},
   "source": [
    "Define a function which returns True if a user inputs a number greater than 6 and false otherwise."
   ]
  },
  {
   "cell_type": "code",
   "execution_count": null,
   "metadata": {},
   "outputs": [],
   "source": []
  },
  {
   "cell_type": "markdown",
   "metadata": {},
   "source": [
    "## Encryption Challenge\n",
    "Make a function that encrypts a list a phone numbers by taking each number, incrementing it by 5, and returning the new list.<br>The function should take a list of phone numbers as a parameter\n",
    "> Hint: you can iterate through characters in a string using a for loop just like how you iterate through items in a list"
   ]
  },
  {
   "cell_type": "code",
   "execution_count": null,
   "metadata": {},
   "outputs": [],
   "source": [
    "phone_nums = [\"5201238907\", \"2449086785\", \"4567341222\", '900879556', \"3451671\", \"6578224222\"]         \n",
    "# note that in Python, both \" \" and ' ' are for strings (in other languages, \"  \" is for strings and ' ' is for characters but Python doesn't differentiate)"
   ]
  },
  {
   "cell_type": "markdown",
   "metadata": {},
   "source": [
    "# Classes\n",
    "Classes are a way to organize information when you want one *object* to contain *attributes* and can contain *methods*<br><br>Add a new method that takes a parameter and appends it to self.list"
   ]
  },
  {
   "cell_type": "code",
   "execution_count": null,
   "metadata": {},
   "outputs": [],
   "source": [
    "class ExampleClass:\n",
    "    def __init__(self, name):\n",
    "        # remember that init is short for initialize, the method required to built an object of your class\n",
    "        self.list = []\n",
    "        self.name = name\n",
    "        self.num = 0\n",
    "        # list and name are attributes\n",
    "    \n",
    "    def new_method(self, num):\n",
    "        # EDIT ME\n",
    "        pass\n",
    "        # pass is a way to prevent your computer from throwing an error over unfinished functions/methods. Delete \"pass\" once you add your code\n",
    "    \n",
    "    def __str__(self):\n",
    "        # this function *returns* what string will be printed when the print(OBJECT_NAME) is called\n",
    "        temp_str = \"Name: \" + self.name + \"\\nList: \"\n",
    "        for i in self.list:\n",
    "            temp_str += i + \" \"\n",
    "        # a good coding practice is to store the entire string as a single variable and return that variable if it is too complex to code in one line\n",
    "        return temp_str\n",
    "\n",
    "example_object = ExampleClass(\"Bob\")\n",
    "example_object.new_method(\"item\")\n",
    "print(example_object)        "
   ]
  },
  {
   "cell_type": "markdown",
   "metadata": {},
   "source": [
    "# Planning large codes\n",
    "Below is an example of a rock, paper, scissors game where the first player to win 3 times wins.\n",
    "> Note: The classes are organized above the functions, which break the game down into individual parts, except for main(), which runs the game<br><br>Many games can be broken down into turns, win conditions, and may or may not include players with attributes or a function to print a board (such as TicTcToe or Connect4)<br>Card games typically use 2 extra classes, one for the cards and one for the deck as a whole, which may include a method to draw a random card from the deck"
   ]
  },
  {
   "cell_type": "code",
   "execution_count": null,
   "metadata": {},
   "outputs": [],
   "source": [
    "import random\n",
    "\n",
    "class Player:\n",
    "    def __init__(self, name):\n",
    "        self.name = name\n",
    "        self.wins = 0\n",
    "        \n",
    "    def __str__(self):\n",
    "        return self.name\n",
    "    \n",
    "def turn(player1, computer):\n",
    "    player1_inp = input(player1.name + \"Enter rock, paper, or scissors\\n\")\n",
    "    options = [\"rock\", \"paper\", \"scissors\"]\n",
    "    computer_move = options[random.randint(0, 2)]\n",
    "    # random is an example of a class where randint is a method!\n",
    "    \n",
    "    p1 = player1_inp.strip()\n",
    "    if p1 == computer_move:\n",
    "        print(\"This round was a tie!\")\n",
    "    elif p1 == \"rock\":\n",
    "        if computer_move == \"scissors\":\n",
    "            player1.wins += 1\n",
    "            print(\"You won this round!\")\n",
    "        elif computer_move == \"paper\":\n",
    "            computer.wins += 1\n",
    "            print(\"The computer won this round!\")\n",
    "    elif p1 == \"paper\":\n",
    "        if computer_move == \"rock\":\n",
    "            player1.wins += 1\n",
    "            print(\"You won this round!\")\n",
    "        elif computer_move == \"scissors\":\n",
    "            computer.wins += 1\n",
    "            print(\"The computer won this round!\")\n",
    "    elif p1 == \"scissors\":\n",
    "        if computer_move == \"paper\":\n",
    "            player1.wins += 1\n",
    "            print(\"You won this round!\")\n",
    "        elif computer_move == \"rock\":\n",
    "            computer.wins += 1\n",
    "            print(\"The computer won this round!\")\n",
    "    else:\n",
    "        print(\"Invalid input\")\n",
    "    \n",
    "def check_for_win(player):\n",
    "    if player.wins >= 3:\n",
    "        print(\"Congratulations to \" + player.name + \"!\")\n",
    "        return True\n",
    "    else:\n",
    "        return False\n",
    "    \n",
    "def main():\n",
    "    input_name = input(\"Enter your player name:\\n\")\n",
    "    player1 = Player(input_name)\n",
    "    player2 = Player(\"Computer\")\n",
    "    game_over = False\n",
    "    while game_over == False:\n",
    "        turn(player1, player2)\n",
    "        if check_for_win(player1) or check_for_win(player2):\n",
    "            game_over = True\n",
    "    \n",
    "main()\n",
    "# remember to type main() to make the game play when you run your file"
   ]
  },
  {
   "cell_type": "markdown",
   "metadata": {},
   "source": [
    "*Lucia Alday<br>07/17/2024*"
   ]
  }
 ],
 "metadata": {
  "kernelspec": {
   "display_name": "Python 3",
   "language": "python",
   "name": "python3"
  },
  "language_info": {
   "codemirror_mode": {
    "name": "ipython",
    "version": 3
   },
   "file_extension": ".py",
   "mimetype": "text/x-python",
   "name": "python",
   "nbconvert_exporter": "python",
   "pygments_lexer": "ipython3",
   "version": "3.12.4"
  }
 },
 "nbformat": 4,
 "nbformat_minor": 2
}
