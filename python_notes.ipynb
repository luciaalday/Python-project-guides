{
 "cells": [
  {
   "cell_type": "markdown",
   "metadata": {},
   "source": [
    "# Python Notes\n",
    "#### Toad\n",
    "> Note that variables written in all caps should be replaced with your variable name in the code"
   ]
  },
  {
   "cell_type": "markdown",
   "metadata": {},
   "source": [
    "# Print()\n",
    "- Let's learn our first *function*!\n",
    "- Functions have names and *parameters* (inputs)\n",
    "- To use a function, you *call* it in your code like so:\n",
    "    - `FUNCTION_NAME(input1, input2, ...)`\n",
    "    - If there is more than one required parameter, they are separated by ','\n",
    "- Function outputs are called *return values*\n",
    "- print() doesn't have a return value, and returns none/null in Python\n",
    "- To see what a return value from another function is, you will have to print it!\n",
    "- Later, we'll learn how to define our own functions and use return values, but for now let's get back to print()\n",
    "- The print function takes one parameter which should be either text enclosed in single/double quotes or a variable containing text (don't worry we'll get to variables in a second)\n",
    "- print() will print the input to terminal\n",
    "- To run our first code, type `print('Hello World!')`"
   ]
  },
  {
   "cell_type": "code",
   "execution_count": null,
   "metadata": {},
   "outputs": [],
   "source": [
    "print('Hello world!')"
   ]
  },
  {
   "cell_type": "markdown",
   "metadata": {},
   "source": [
    "# Variables\n",
    "- Variables in code are just like variables in math, where one name can represent an arbitrary value<br>\n",
    "- However, to perform some functions without error, the variable should be the correct *type*. You wouldn't want to input text into a function that computes a factorial, right?\n",
    "- There are some naming conventions for variables\n",
    "- Variables typically start with a lowercase letter\n",
    "- To declare a variable, the syntax is `variable_name = value`\n",
    "#### Snake Case\n",
    "- this_is_when_underscores_separate_words\n",
    "#### Camel Case\n",
    "- thisIsWhenCapsDifferentiateWords\n",
    "# Data Types\n",
    "- On computers, all data and code is compiled into binary. To decode binary, the computer needs to know what *data type* it is\n",
    "- Why is this?\n",
    "    - It's a lot easier on space and memorry in the long term\n",
    "- How does processing differ by data type?\n",
    "<br>We're not going to delve into this right now, but here is a simplified overview. Don't worry if you don't fully understand it, this is just background knowledge and won't really come up in Python\n",
    "    - Characters are encoded in ASCII (an agreed upon number system that assigns characters to numbers)\n",
    "    - Integers are encoded as their number\n",
    "    - Booleans are encoded as 1 for true or 0 for false\n",
    "    - Strings are lists of characters\n",
    "    - Non integer (floating point) numbers are encoded in a form of scientific notation\n",
    "- Woah, there were some new words there. Let's back up and define each data type\n",
    "\n",
    "### Integers/Floating Point Numbers\n",
    "- Integers can be positive or negative, they just can't have decimal points.\n",
    "- Floating point numbers are any number with decimal points, they tend to take up more spaces and are more prone to error but are needed for math\n",
    "- To define an integer, you just write the number. Super easy!\n",
    "- `VARIABLE_INT = 100`\n",
    "- We can perform *operations* on variables like addition, subtraction, multiplication, and division\n",
    "1. Addition: \n",
    "    - `INT_ONE + INT_TWO`\n",
    "2. Subtraction:\n",
    "    - `INT_ONE - INT_TWO`\n",
    "3. Multiplication:\n",
    "    - `INT_ONE * INT_TWO`\n",
    "4. Exponents:\n",
    "    - `INT_ONE ** INT_TWO`\n",
    "    - This computes as INT_ONE ^ INT_TWO or INT_ONE to the power of INT_TWO\n",
    "5. Division:\n",
    "    - `INT_ONE / INT_TWO`\n",
    "    - Integer division will round down the answer to the nearest integer\n",
    "    - Integer Division: `INT_ONE // INT_TWO`\n",
    "6. Modulus: This is likely a new operation. Often abbreviated to \"mod\", this will return the remainder from integer division\n",
    "    - Mod: `INT_ONE % INT_TWO`\n",
    "    - Why is this important? It's great for testing if numbers are even/odd and used in cool ways!\n",
    "    - For example, to see if a number is even, 15 % 2 is 1 (odd) and 16 % 2 is 0 (even)\n",
    "- Try some of these out below!"
   ]
  },
  {
   "cell_type": "code",
   "execution_count": null,
   "metadata": {},
   "outputs": [],
   "source": [
    "num = 10 + 89\n",
    "# Write your operations here and add some new variables\n",
    "print(num)"
   ]
  },
  {
   "cell_type": "markdown",
   "metadata": {},
   "source": [
    "### Strings/Characters\n",
    "- Python doesn't differentiate strings of characters and single characters, but other languages like C/C++ and Java do\n",
    "- Strings are sequences of text, code doesn't process what is inside a string\n",
    "- To denote a string, use single or double quotes like this: 'text' or \"text\"\n",
    "- To declare a string variable: `string_var = 'hello world'`\n",
    "- There are some funky characters in string though, they will always be preceded by `\\`\n",
    "    - `\\n`: This is a newline character, use this for linebreaks\n",
    "    - `\\t`: This is a tab character\n",
    "- What if you want to use `\"`, `'`, or both?\n",
    "- `'What's for dinner'` will cause there to be an error\n",
    "    - We could use \"\" in this case like `\"What's for dinner\"`\n",
    "    - Or we can use the backslash character like this:\n",
    "        - `What\\'s for dinner'\n",
    "        - This will tell the computer to ignore that the ' is usually a command\n",
    "- This works for ignoring any single character\n",
    "    - To type `\\` in a string, use `\\\\`, this will only print one\n",
    "- Try making and printing some string variables below!"
   ]
  },
  {
   "cell_type": "code",
   "execution_count": null,
   "metadata": {},
   "outputs": [],
   "source": [
    "string_var = \"hello world\"\n",
    "print(string_var)"
   ]
  },
  {
   "cell_type": "markdown",
   "metadata": {},
   "source": [
    "# Booleans\n",
    "- Booleans are true/false values\n",
    "- They will come in handy for loops and return values later\n",
    "- To declare: `bool_var = True` or `bool_var = False`"
   ]
  },
  {
   "cell_type": "markdown",
   "metadata": {},
   "source": [
    "# Combining Strings and Ints/Other Variable types\n",
    "- To print variables and defined text in a line, we can use + to *concatenate* or combine them\n",
    "- Like so:"
   ]
  },
  {
   "cell_type": "code",
   "execution_count": null,
   "metadata": {},
   "outputs": [],
   "source": [
    "var = \"one\"\n",
    "print(\"number: \" + var)"
   ]
  },
  {
   "cell_type": "markdown",
   "metadata": {},
   "source": [
    "- However, if you do this with conflicting data types, this will cause an error because the computer doesn't know whether to concatenate or add mathematically\n",
    "- To fix this, we use type changes, like this\n",
    "    - `str(9)` will convert 9 to a string from an integer\n",
    "    - `str(int_variable)` converts the int_variable to a string"
   ]
  },
  {
   "cell_type": "code",
   "execution_count": null,
   "metadata": {},
   "outputs": [],
   "source": [
    "var = 9\n",
    "print(\"Number: \" + str(var))"
   ]
  },
  {
   "cell_type": "markdown",
   "metadata": {},
   "source": [
    "- What about the other direction where we have an input number but it's a string?\n",
    "- We use `int(val)`\n",
    "    - note that this will casuse an error if val is not an integer"
   ]
  },
  {
   "cell_type": "code",
   "execution_count": 5,
   "metadata": {},
   "outputs": [
    {
     "name": "stdout",
     "output_type": "stream",
     "text": [
      "67\n"
     ]
    }
   ],
   "source": [
    "var = 57\n",
    "num = int(var) + 10\n",
    "print(num)"
   ]
  },
  {
   "cell_type": "markdown",
   "metadata": {},
   "source": [
    "# Practice to combine all covered concepts"
   ]
  },
  {
   "cell_type": "markdown",
   "metadata": {
    "notebookRunGroups": {
     "groupValue": "1"
    }
   },
   "source": [
    "# String Mutations\n",
    "- Let's play around with some built in string functions\n",
    "- A lot of times, we work with imperfect input and need to break it down into something easier to digest in code"
   ]
  },
  {
   "cell_type": "markdown",
   "metadata": {},
   "source": [
    "Make the following string into a list of words using `STRING_NAME.split()`<br>Print this list"
   ]
  },
  {
   "cell_type": "code",
   "execution_count": null,
   "metadata": {},
   "outputs": [],
   "source": [
    "string1 = \"On Friday we are pieing Sea or Mr. Shabingus\""
   ]
  },
  {
   "cell_type": "markdown",
   "metadata": {},
   "source": [
    "This time, use `STRING_NAME.split(\",\")`, to split it along the commas and print it using a single line of code\n",
    "> Note: This does not alter the original string, it creates a new list. To save this new list, you have to assign it to a variable (`NEW_VAR = STRING_NAME.split()`)"
   ]
  },
  {
   "cell_type": "code",
   "execution_count": null,
   "metadata": {},
   "outputs": [],
   "source": [
    "string2 = \"We,are,also,dunking,Piplup,this,Friday.\""
   ]
  },
  {
   "cell_type": "markdown",
   "metadata": {},
   "source": [
    "Get rid of a space or linebreak (`\\n`) at the beginning *(can be referred to as leading characters)* and end *(also called trailing characters)* of a string using `STRING_NAME.strip()`\n",
    ">This is useful for when taking inputs if the user accidentally adds a space where there shouldn't be one and doesn't notice"
   ]
  },
  {
   "cell_type": "code",
   "execution_count": null,
   "metadata": {},
   "outputs": [],
   "source": [
    "string3 = \"   Linebreak\\n\""
   ]
  },
  {
   "cell_type": "markdown",
   "metadata": {},
   "source": [
    "### Time to put it all together\n",
    "Print every other word of the following string, each word on a separate line\n",
    "> Hint: Use % and a new variable to keep track of whether you are on an even or odd number (if n % 2 == 1, the number is odd, otherwise it is even), increment the number by one in the loop"
   ]
  },
  {
   "cell_type": "code",
   "execution_count": null,
   "metadata": {},
   "outputs": [],
   "source": [
    "string4 = \"Acquainted with the Night\\nBy Robert Frost\\nI have been one acquainted with the night.\\nI have walked out in rain—and back in rain.\\nI have outwalked the furthest city light.\\n\\nI have looked down the saddest city lane.\\nI have passed by the watchman on his beat\\nAnd dropped my eyes, unwilling to explain.\\n\\nI have stood still and stopped the sound of feet\\nWhen far away an interrupted cry\\nCame over houses from another street,\\n\\nBut not to call me back or say good-bye;\\nAnd further still at an unearthly height,\\nOne luminary clock against the sky\\n\\nProclaimed the time was neither wrong nor right.\\nI have been one acquainted with the night.\\n\""
   ]
  },
  {
   "cell_type": "markdown",
   "metadata": {},
   "source": [
    "## Lists"
   ]
  },
  {
   "cell_type": "markdown",
   "metadata": {},
   "source": [
    "Increment each number of the following list by 5"
   ]
  },
  {
   "cell_type": "code",
   "execution_count": null,
   "metadata": {},
   "outputs": [],
   "source": [
    "\n",
    "list1 = [4, 5, 6, 3, 1, 8]"
   ]
  },
  {
   "cell_type": "markdown",
   "metadata": {},
   "source": [
    "Quickly sort the list using `LIST_NAME.sort()`\n",
    "> This works both numerically and alphabetically (but not if a list contains a mix of string variables and int/float variables)<br>Note: This alters the original list"
   ]
  },
  {
   "cell_type": "code",
   "execution_count": null,
   "metadata": {},
   "outputs": [],
   "source": [
    "list2 = [4, 7, 9, 0, 12]"
   ]
  },
  {
   "cell_type": "markdown",
   "metadata": {},
   "source": [
    "Only change the third item of the list to 78"
   ]
  },
  {
   "cell_type": "code",
   "execution_count": null,
   "metadata": {},
   "outputs": [],
   "source": [
    "list3 = [\"one\", 2, 4, 5, \"six\", 89]"
   ]
  },
  {
   "cell_type": "markdown",
   "metadata": {},
   "source": [
    "# Dictionaries"
   ]
  },
  {
   "cell_type": "markdown",
   "metadata": {},
   "source": [
    "Make a dictionary of Team USA gymnast scores using a while loop where list1 is the keys and list2 is their corresponding values"
   ]
  },
  {
   "cell_type": "code",
   "execution_count": null,
   "metadata": {},
   "outputs": [],
   "source": [
    "list1 = [\"Simone Biles\", \"Jade Carey\", \"Jordan Chiles\", \"Suni Lee\", \"Hezly Rivera\", \"Joscelyn Roberson\", \"Leanne Wong\"]\n",
    "list2 = [117.225, 111.350, 111.425, 111.675, 111.150, 110.975, 110.425]"
   ]
  },
  {
   "cell_type": "markdown",
   "metadata": {},
   "source": [
    "# Functions"
   ]
  },
  {
   "cell_type": "markdown",
   "metadata": {},
   "source": [
    "Functions are used to organize code.<br>Every function *returns* a value, either a variable, multiple variables, or null (nothing)<br><br>The following function takes a number as a *parameter* and returns that number squared.\n",
    "> Recall that return stores a value which can be printed or assigned to a variable"
   ]
  },
  {
   "cell_type": "code",
   "execution_count": null,
   "metadata": {},
   "outputs": [],
   "source": [
    "def num_squared(num):\n",
    "    return num ** 2\n",
    "    # ** is how you code exponents, recall that * is multiplication\n",
    "\n",
    "n = num_squared(9)\n",
    "print(n)"
   ]
  },
  {
   "cell_type": "markdown",
   "metadata": {},
   "source": [
    "Define a function which returns True if a user inputs a number greater than 6 and false otherwise."
   ]
  },
  {
   "cell_type": "code",
   "execution_count": null,
   "metadata": {},
   "outputs": [],
   "source": []
  },
  {
   "cell_type": "markdown",
   "metadata": {},
   "source": [
    "## Encryption Challenge\n",
    "Make a function that encrypts a list a phone numbers by taking each number, incrementing it by 5, and returning the new list.<br>The function should take a list of phone numbers as a parameter\n",
    "> Hint: you can iterate through characters in a string using a for loop just like how you iterate through items in a list"
   ]
  },
  {
   "cell_type": "code",
   "execution_count": null,
   "metadata": {},
   "outputs": [],
   "source": [
    "phone_nums = [\"5201238907\", \"2449086785\", \"4567341222\", '900879556', \"3451671\", \"6578224222\"]         \n",
    "# note that in Python, both \" \" and ' ' are for strings (in other languages, \"  \" is for strings and ' ' is for characters but Python doesn't differentiate)"
   ]
  },
  {
   "cell_type": "markdown",
   "metadata": {},
   "source": [
    "# Classes\n",
    "Classes are a way to organize information when you want one *object* to contain *attributes* and can contain *methods*<br><br>Add a new method that takes a parameter and appends it to self.list"
   ]
  },
  {
   "cell_type": "code",
   "execution_count": null,
   "metadata": {},
   "outputs": [],
   "source": [
    "class ExampleClass:\n",
    "    def __init__(self, name):\n",
    "        # remember that init is short for initialize, the method required to built an object of your class\n",
    "        self.list = []\n",
    "        self.name = name\n",
    "        self.num = 0\n",
    "        # list and name are attributes\n",
    "    \n",
    "    def new_method(self, num):\n",
    "        # EDIT ME\n",
    "        pass\n",
    "        # pass is a way to prevent your computer from throwing an error over unfinished functions/methods. Delete \"pass\" once you add your code\n",
    "    \n",
    "    def __str__(self):\n",
    "        # this function *returns* what string will be printed when the print(OBJECT_NAME) is called\n",
    "        temp_str = \"Name: \" + self.name + \"\\nList: \"\n",
    "        for i in self.list:\n",
    "            temp_str += i + \" \"\n",
    "        # a good coding practice is to store the entire string as a single variable and return that variable if it is too complex to code in one line\n",
    "        return temp_str\n",
    "\n",
    "example_object = ExampleClass(\"Bob\")\n",
    "example_object.new_method(\"item\")\n",
    "print(example_object)        "
   ]
  },
  {
   "cell_type": "markdown",
   "metadata": {},
   "source": [
    "# Planning large codes\n",
    "Below is an example of a rock, paper, scissors game where the first player to win 3 times wins.\n",
    "> Note: The classes are organized above the functions, which break the game down into individual parts, except for main(), which runs the game<br><br>Many games can be broken down into turns, win conditions, and may or may not include players with attributes or a function to print a board (such as TicTcToe or Connect4)<br>Card games typically use 2 extra classes, one for the cards and one for the deck as a whole, which may include a method to draw a random card from the deck"
   ]
  },
  {
   "cell_type": "code",
   "execution_count": null,
   "metadata": {},
   "outputs": [],
   "source": [
    "import random\n",
    "\n",
    "class Player:\n",
    "    def __init__(self, name):\n",
    "        self.name = name\n",
    "        self.wins = 0\n",
    "        \n",
    "    def __str__(self):\n",
    "        return self.name\n",
    "    \n",
    "def turn(player1, computer):\n",
    "    player1_inp = input(player1.name + \"Enter rock, paper, or scissors\\n\")\n",
    "    options = [\"rock\", \"paper\", \"scissors\"]\n",
    "    computer_move = options[random.randint(0, 2)]\n",
    "    # random is an example of a class where randint is a method!\n",
    "    \n",
    "    p1 = player1_inp.strip()\n",
    "    if p1 == computer_move:\n",
    "        print(\"This round was a tie!\")\n",
    "    elif p1 == \"rock\":\n",
    "        if computer_move == \"scissors\":\n",
    "            player1.wins += 1\n",
    "            print(\"You won this round!\")\n",
    "        elif computer_move == \"paper\":\n",
    "            computer.wins += 1\n",
    "            print(\"The computer won this round!\")\n",
    "    elif p1 == \"paper\":\n",
    "        if computer_move == \"rock\":\n",
    "            player1.wins += 1\n",
    "            print(\"You won this round!\")\n",
    "        elif computer_move == \"scissors\":\n",
    "            computer.wins += 1\n",
    "            print(\"The computer won this round!\")\n",
    "    elif p1 == \"scissors\":\n",
    "        if computer_move == \"paper\":\n",
    "            player1.wins += 1\n",
    "            print(\"You won this round!\")\n",
    "        elif computer_move == \"rock\":\n",
    "            computer.wins += 1\n",
    "            print(\"The computer won this round!\")\n",
    "    else:\n",
    "        print(\"Invalid input\")\n",
    "    \n",
    "def check_for_win(player):\n",
    "    if player.wins >= 3:\n",
    "        print(\"Congratulations to \" + player.name + \"!\")\n",
    "        return True\n",
    "    else:\n",
    "        return False\n",
    "    \n",
    "def main():\n",
    "    input_name = input(\"Enter your player name:\\n\")\n",
    "    player1 = Player(input_name)\n",
    "    player2 = Player(\"Computer\")\n",
    "    game_over = False\n",
    "    while game_over == False:\n",
    "        turn(player1, player2)\n",
    "        if check_for_win(player1) or check_for_win(player2):\n",
    "            game_over = True\n",
    "    \n",
    "main()\n",
    "# remember to type main() to make the game play when you run your file"
   ]
  },
  {
   "cell_type": "markdown",
   "metadata": {},
   "source": [
    "*Lucia Alday<br>07/17/2024*"
   ]
  }
 ],
 "metadata": {
  "kernelspec": {
   "display_name": "Python 3",
   "language": "python",
   "name": "python3"
  },
  "language_info": {
   "codemirror_mode": {
    "name": "ipython",
    "version": 3
   },
   "file_extension": ".py",
   "mimetype": "text/x-python",
   "name": "python",
   "nbconvert_exporter": "python",
   "pygments_lexer": "ipython3",
   "version": "3.11.9"
  }
 },
 "nbformat": 4,
 "nbformat_minor": 2
}
