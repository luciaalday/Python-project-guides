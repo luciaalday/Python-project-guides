{
 "cells": [
  {
   "cell_type": "markdown",
   "metadata": {},
   "source": [
    "# Connect4 Guidelines\n",
    "Toad"
   ]
  },
  {
   "cell_type": "markdown",
   "metadata": {},
   "source": [
    "### Coding win conditions\n",
    "This function is going to iterate through all the ways there can be  win in connect 4 and returns True if there is a winner and False if there is not.<br>In main(), the while loop which continues the game continues while this function returns False"
   ]
  },
  {
   "cell_type": "code",
   "execution_count": null,
   "metadata": {},
   "outputs": [],
   "source": [
    "def win_condition(board):\n",
    "    # board is a 2-dimensional array (array within and array)\n",
    "    # find a way to loop through wins in rows, columns, and diagonals"
   ]
  },
  {
   "cell_type": "markdown",
   "metadata": {},
   "source": [
    "### Practice looping through a grid\n",
    "Use nested for loops to practice incrementing to print out just rows, columns, and diagonals in the grid"
   ]
  },
  {
   "cell_type": "code",
   "execution_count": 2,
   "metadata": {},
   "outputs": [
    {
     "name": "stdout",
     "output_type": "stream",
     "text": [
      "[0, 1, 2, 3, 4, 5, 6, 7]\n",
      "[10, 11, 12, 13, 14, 15, 16, 17]\n",
      "[20, 21, 22, 23, 24, 25, 26, 27]\n",
      "[30, 31, 32, 33, 34, 35, 36, 37]\n",
      "[40, 41, 42, 43, 44, 45, 46, 47]\n",
      "[50, 51, 52, 53, 54, 55, 56, 57]\n",
      "[60, 61, 62, 63, 64, 65, 66, 67]\n",
      "[70, 71, 72, 73, 74, 75, 76, 77]\n",
      "[80, 81, 82, 83, 84, 85, 86, 87]\n",
      "[90, 91, 92, 93, 94, 95, 96, 97]\n"
     ]
    }
   ],
   "source": [
    "# [[10, 11, 12, 13, 14, 15, 16, 17]\n",
    "#  [20, 21, 22, 23, 24, 25, 26, 27]\n",
    "#  [30, 31, 32, 33, 34, 35, 36, 37]\n",
    "#  [40, 41, 42, 43, 44, 45, 46, 47]\n",
    "#  [50, 51, 52, 53, 54, 55, 56, 57]\n",
    "#  [60, 61, 62, 63, 64, 65, 66, 67]\n",
    "#  [70, 71, 72, 73, 74, 75, 76, 77]\n",
    "#  [80, 81, 82, 83, 84, 85, 86, 87]\n",
    "#  [90, 91, 92, 93, 94, 95, 96, 97]]\n",
    "\n",
    "# practice setting up for loops that only print rows of four, columns of 4, and diagonals of 4.\n",
    "# Make a separate function for each one\n",
    "\n",
    "list = [[10, 11, 12, 13, 14, 15, 16, 17], [20, 21, 22, 23, 24, 25, 26, 27], [30, 31, 32, 33, 34, 35, 36, 37], [40, 41, 42, 43, 44, 45, 46, 47], [50, 51, 52, 53, 54, 55, 56, 57], [60, 61, 62, 63, 64, 65, 66, 67], [70, 71, 72, 73, 74, 75, 76, 77], [80, 81, 82, 83, 84, 85, 86, 87], [90, 91, 92, 93, 94, 95, 96, 97]]\n",
    "for line in list:\n",
    "    print(line)"
   ]
  },
  {
   "cell_type": "markdown",
   "metadata": {},
   "source": [
    "*Lucia Alday<br>07/18/2024*"
   ]
  }
 ],
 "metadata": {
  "kernelspec": {
   "display_name": "Python 3",
   "language": "python",
   "name": "python3"
  },
  "language_info": {
   "codemirror_mode": {
    "name": "ipython",
    "version": 3
   },
   "file_extension": ".py",
   "mimetype": "text/x-python",
   "name": "python",
   "nbconvert_exporter": "python",
   "pygments_lexer": "ipython3",
   "version": "3.12.4"
  }
 },
 "nbformat": 4,
 "nbformat_minor": 2
}
